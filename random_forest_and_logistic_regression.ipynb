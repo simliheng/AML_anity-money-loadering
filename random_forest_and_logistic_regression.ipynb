{
 "cells": [
  {
   "cell_type": "markdown",
   "metadata": {},
   "source": [
    "## Random Forest & Logistic Regression"
   ]
  },
  {
   "cell_type": "code",
   "execution_count": 3,
   "metadata": {},
   "outputs": [
    {
     "name": "stdout",
     "output_type": "stream",
     "text": [
      "Columns in dataset: ['Time', 'Date', 'Sender_account', 'Receiver_account', 'Amount', 'Payment_currency', 'Received_currency', 'Sender_bank_location', 'Receiver_bank_location', 'Payment_type', 'Is_laundering', 'Laundering_type']\n",
      "       Time        Date  Sender_account  Receiver_account    Amount  \\\n",
      "0  10:35:19  07/10/2022      8724731955        2769355426   1459.15   \n",
      "1  10:35:20  07/10/2022      1491989064        8401255335   6019.64   \n",
      "2  10:35:20  07/10/2022       287305149        4404767002  14328.44   \n",
      "3  10:35:21  07/10/2022      5376652437        9600420220  11895.00   \n",
      "4  10:35:21  07/10/2022      9614186178        3803336972    115.25   \n",
      "\n",
      "  Payment_currency Received_currency Sender_bank_location  \\\n",
      "0        UK pounds         UK pounds                   UK   \n",
      "1        UK pounds            Dirham                   UK   \n",
      "2        UK pounds         UK pounds                   UK   \n",
      "3        UK pounds         UK pounds                   UK   \n",
      "4        UK pounds         UK pounds                   UK   \n",
      "\n",
      "  Receiver_bank_location  Payment_type  Is_laundering       Laundering_type  \n",
      "0                     UK  Cash Deposit              0  Normal_Cash_Deposits  \n",
      "1                    UAE  Cross-border              0        Normal_Fan_Out  \n",
      "2                     UK        Cheque              0  Normal_Small_Fan_Out  \n",
      "3                     UK           ACH              0         Normal_Fan_In  \n",
      "4                     UK  Cash Deposit              0  Normal_Cash_Deposits  \n",
      "Random Forest Classification Report:\n",
      "              precision    recall  f1-score   support\n",
      "\n",
      "           0       1.00      1.00      1.00    209529\n",
      "           1       1.00      0.96      0.98       186\n",
      "\n",
      "    accuracy                           1.00    209715\n",
      "   macro avg       1.00      0.98      0.99    209715\n",
      "weighted avg       1.00      1.00      1.00    209715\n",
      "\n"
     ]
    },
    {
     "data": {
      "image/png": "[encoded data removed]",
      "text/plain": [
       "<Figure size 640x480 with 2 Axes>"
      ]
     },
     "metadata": {},
     "output_type": "display_data"
    },
    {
     "name": "stdout",
     "output_type": "stream",
     "text": [
      "Logistic Regression Classification Report:\n",
      "              precision    recall  f1-score   support\n",
      "\n",
      "           0       1.00      1.00      1.00    209529\n",
      "           1       0.00      0.00      0.00       186\n",
      "\n",
      "    accuracy                           1.00    209715\n",
      "   macro avg       0.50      0.50      0.50    209715\n",
      "weighted avg       1.00      1.00      1.00    209715\n",
      "\n"
     ]
    },
    {
     "name": "stderr",
     "output_type": "stream",
     "text": [
      "/Users/macbookpro/Library/Python/3.9/lib/python/site-packages/sklearn/metrics/_classification.py:1531: UndefinedMetricWarning: Precision is ill-defined and being set to 0.0 in labels with no predicted samples. Use `zero_division` parameter to control this behavior.\n",
      "  _warn_prf(average, modifier, f\"{metric.capitalize()} is\", len(result))\n",
      "/Users/macbookpro/Library/Python/3.9/lib/python/site-packages/sklearn/metrics/_classification.py:1531: UndefinedMetricWarning: Precision is ill-defined and being set to 0.0 in labels with no predicted samples. Use `zero_division` parameter to control this behavior.\n",
      "  _warn_prf(average, modifier, f\"{metric.capitalize()} is\", len(result))\n",
      "/Users/macbookpro/Library/Python/3.9/lib/python/site-packages/sklearn/metrics/_classification.py:1531: UndefinedMetricWarning: Precision is ill-defined and being set to 0.0 in labels with no predicted samples. Use `zero_division` parameter to control this behavior.\n",
      "  _warn_prf(average, modifier, f\"{metric.capitalize()} is\", len(result))\n"
     ]
    }
   ],
   "source": [
    "# --- Import libraries ---\n",
    "import pandas as pd\n",
    "import numpy as np\n",
    "from sklearn.model_selection import train_test_split\n",
    "from sklearn.ensemble import RandomForestClassifier\n",
    "from sklearn.linear_model import LogisticRegression\n",
    "from sklearn.metrics import classification_report, confusion_matrix\n",
    "import seaborn as sns\n",
    "import matplotlib.pyplot as plt\n",
    "\n",
    "# --- Load the dataset ---\n",
    "data = pd.read_csv(\"SAML-D.csv\")\n",
    "\n",
    "# --- Quick check of columns and head ---\n",
    "print(\"Columns in dataset:\", data.columns.tolist())\n",
    "print(data.head())\n",
    "\n",
    "# --- Fill missing values ---\n",
    "data.fillna(0, inplace=True)\n",
    "\n",
    "# --- Combine 'Date' and 'Time' into datetime and extract useful features ---\n",
    "data[\"Datetime\"] = pd.to_datetime(data[\"Date\"] + \" \" + data[\"Time\"], errors='coerce')\n",
    "data[\"Hour\"] = data[\"Datetime\"].dt.hour\n",
    "data[\"DayOfWeek\"] = data[\"Datetime\"].dt.dayofweek\n",
    "data[\"Month\"] = data[\"Datetime\"].dt.month\n",
    "\n",
    "# --- Drop original time columns ---\n",
    "data.drop([\"Time\", \"Date\", \"Datetime\"], axis=1, inplace=True)\n",
    "\n",
    "# --- Define features and target ---\n",
    "X = data.drop(\"Is_laundering\", axis=1)\n",
    "y = data[\"Is_laundering\"]\n",
    "\n",
    "# --- One-hot encode categorical columns ---\n",
    "categorical_cols = [\"Payment_currency\", \"Received_currency\", \"Sender_bank_location\", \n",
    "                    \"Receiver_bank_location\", \"Payment_type\", \"Laundering_type\"]\n",
    "X = pd.get_dummies(X, columns=categorical_cols, drop_first=True)\n",
    "\n",
    "# --- Fill any new NaNs caused during processing ---\n",
    "X = X.fillna(0)\n",
    "\n",
    "# --- Split dataset ---\n",
    "X_train, X_test, y_train, y_test = train_test_split(X, y, test_size=0.2, random_state=42)\n",
    "\n",
    "\n",
    "# --- Model 1: Random Forest ---\n",
    "rf_model = RandomForestClassifier(n_estimators=100, random_state=42)\n",
    "rf_model.fit(X_train, y_train)\n",
    "rf_preds = rf_model.predict(X_test)\n",
    "\n",
    "print(\"Random Forest Classification Report:\")\n",
    "print(classification_report(y_test, rf_preds))\n",
    "\n",
    "# --- Confusion Matrix for Random Forest ---\n",
    "conf_matrix_rf = confusion_matrix(y_test, rf_preds)\n",
    "sns.heatmap(conf_matrix_rf, annot=True, fmt='d', cmap='Blues')\n",
    "plt.title(\"Random Forest Confusion Matrix\")\n",
    "plt.xlabel(\"Predicted\")\n",
    "plt.ylabel(\"Actual\")\n",
    "plt.show()\n",
    "\n",
    "# --- Model 2: Logistic Regression ---\n",
    "lr_model = LogisticRegression(max_iter=1000)\n",
    "lr_model.fit(X_train, y_train)\n",
    "lr_preds = lr_model.predict(X_test)\n",
    "\n",
    "print(\"Logistic Regression Classification Report:\")\n",
    "print(classification_report(y_test, lr_preds))\n"
   ]
  },
  {
   "cell_type": "code",
   "execution_count": 5,
   "metadata": {},
   "outputs": [
    {
     "ename": "ModuleNotFoundError",
     "evalue": "No module named 'lightgbm'",
     "output_type": "error",
     "traceback": [
      "\u001b[0;31m---------------------------------------------------------------------------\u001b[0m",
      "\u001b[0;31mModuleNotFoundError\u001b[0m                       Traceback (most recent call last)",
      "Cell \u001b[0;32mIn[5], line 1\u001b[0m\n\u001b[0;32m----> 1\u001b[0m \u001b[38;5;28;01mimport\u001b[39;00m \u001b[38;5;21;01mlightgbm\u001b[39;00m \u001b[38;5;28;01mas\u001b[39;00m \u001b[38;5;21;01mlgb\u001b[39;00m\n\u001b[1;32m      2\u001b[0m \u001b[38;5;28;01mfrom\u001b[39;00m \u001b[38;5;21;01msklearn\u001b[39;00m\u001b[38;5;21;01m.\u001b[39;00m\u001b[38;5;21;01mmodel_selection\u001b[39;00m \u001b[38;5;28;01mimport\u001b[39;00m train_test_split\n\u001b[1;32m      3\u001b[0m \u001b[38;5;28;01mfrom\u001b[39;00m \u001b[38;5;21;01msklearn\u001b[39;00m\u001b[38;5;21;01m.\u001b[39;00m\u001b[38;5;21;01mmetrics\u001b[39;00m \u001b[38;5;28;01mimport\u001b[39;00m classification_report, accuracy_score\n",
      "\u001b[0;31mModuleNotFoundError\u001b[0m: No module named 'lightgbm'"
     ]
    }
   ],
   "source": [
    "import lightgbm as lgb\n",
    "from sklearn.model_selection import train_test_split\n",
    "from sklearn.metrics import classification_report, accuracy_score\n",
    "\n",
    "# Split data into train and test\n",
    "X_train, X_test, y_train, y_test = train_test_split(X, y, test_size=0.2, random_state=42)\n",
    "\n",
    "# Define the LightGBM model\n",
    "lgbm_model = lgb.LGBMClassifier(\n",
    "    objective='binary',          # Binary classification task\n",
    "    class_weight='balanced',     # Handle class imbalance\n",
    "    metric='binary_logloss',     # Use binary logloss for evaluation\n",
    "    boosting_type='gbdt',        # Gradient boosting decision trees\n",
    "    n_estimators=1000,           # Number of trees\n",
    "    learning_rate=0.05,          # Learning rate\n",
    "    max_depth=-1,                # Max depth of the tree\n",
    "    num_leaves=31,               # Number of leaves in each tree\n",
    "    subsample=0.8,               # Fraction of data used for each tree\n",
    "    colsample_bytree=0.8         # Fraction of features used for each tree\n",
    ")\n",
    "\n",
    "# Fit the model\n",
    "lgbm_model.fit(X_train, y_train)\n",
    "\n",
    "# Make predictions\n",
    "y_pred = lgbm_model.predict(X_test)\n",
    "\n",
    "# Evaluate the model\n",
    "print(\"Accuracy:\", accuracy_score(y_test, y_pred))\n",
    "print(\"Classification Report:\\n\", classification_report(y_test, y_pred))\n"
   ]
  },
  {
   "cell_type": "code",
   "execution_count": null,
   "metadata": {},
   "outputs": [],
   "source": []
  }
 ],
 "metadata": {
  "kernelspec": {
   "display_name": "Python 3",
   "language": "python",
   "name": "python3"
  },
  "language_info": {
   "codemirror_mode": {
    "name": "ipython",
    "version": 3
   },
   "file_extension": ".py",
   "mimetype": "text/x-python",
   "name": "python",
   "nbconvert_exporter": "python",
   "pygments_lexer": "ipython3",
   "version": "3.9.6"
  }
 },
 "nbformat": 4,
 "nbformat_minor": 2
}
