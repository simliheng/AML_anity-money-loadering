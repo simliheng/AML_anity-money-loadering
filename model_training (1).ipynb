{
 "cells": [
  {
   "cell_type": "markdown",
   "metadata": {
    "id": "w_aK0Zw_ex-i"
   },
   "source": [
    "## AUTOENCODER-BASED ANOMALY DETECTION"
   ]
  },
  {
   "cell_type": "markdown",
   "metadata": {
    "id": "5BjmZcjWa0Og"
   },
   "source": [
    "### 1. Import Libraries"
   ]
  },
  {
   "cell_type": "code",
   "execution_count": 14,
   "metadata": {
    "id": "ZElZkRQZZ7v1"
   },
   "outputs": [],
   "source": [
    "import pandas as pd\n",
    "import numpy as np\n",
    "from sklearn.preprocessing import StandardScaler, LabelEncoder\n",
    "import matplotlib.pyplot as plt\n",
    "import seaborn as sns\n",
    "import tensorflow as tf\n",
    "from tensorflow.keras.models import Model\n",
    "from tensorflow.keras.layers import Input, Dense\n",
    "\n"
   ]
  },
  {
   "cell_type": "markdown",
   "metadata": {
    "id": "HWriOI_qa8Pk"
   },
   "source": [
    "### 2.Load Dataset"
   ]
  },
  {
   "cell_type": "code",
   "execution_count": 15,
   "metadata": {
    "colab": {
     "base_uri": "https://localhost:8080/",
     "height": 313
    },
    "id": "blDYafQqa_T3",
    "outputId": "413418b6-d523-4226-d6cf-f1c87e6c5921"
   },
   "outputs": [
    {
     "data": {
      "text/html": [
       "<div>\n",
       "<style scoped>\n",
       "    .dataframe tbody tr th:only-of-type {\n",
       "        vertical-align: middle;\n",
       "    }\n",
       "\n",
       "    .dataframe tbody tr th {\n",
       "        vertical-align: top;\n",
       "    }\n",
       "\n",
       "    .dataframe thead th {\n",
       "        text-align: right;\n",
       "    }\n",
       "</style>\n",
       "<table border=\"1\" class=\"dataframe\">\n",
       "  <thead>\n",
       "    <tr style=\"text-align: right;\">\n",
       "      <th></th>\n",
       "      <th>Time</th>\n",
       "      <th>Date</th>\n",
       "      <th>Sender_account</th>\n",
       "      <th>Receiver_account</th>\n",
       "      <th>Amount</th>\n",
       "      <th>Payment_currency</th>\n",
       "      <th>Received_currency</th>\n",
       "      <th>Sender_bank_location</th>\n",
       "      <th>Receiver_bank_location</th>\n",
       "      <th>Payment_type</th>\n",
       "      <th>Is_laundering</th>\n",
       "      <th>Laundering_type</th>\n",
       "    </tr>\n",
       "  </thead>\n",
       "  <tbody>\n",
       "    <tr>\n",
       "      <th>0</th>\n",
       "      <td>10:35:19</td>\n",
       "      <td>07/10/2022</td>\n",
       "      <td>8724731955</td>\n",
       "      <td>2769355426</td>\n",
       "      <td>1459.15</td>\n",
       "      <td>UK pounds</td>\n",
       "      <td>UK pounds</td>\n",
       "      <td>UK</td>\n",
       "      <td>UK</td>\n",
       "      <td>Cash Deposit</td>\n",
       "      <td>0</td>\n",
       "      <td>Normal_Cash_Deposits</td>\n",
       "    </tr>\n",
       "    <tr>\n",
       "      <th>1</th>\n",
       "      <td>10:35:20</td>\n",
       "      <td>07/10/2022</td>\n",
       "      <td>1491989064</td>\n",
       "      <td>8401255335</td>\n",
       "      <td>6019.64</td>\n",
       "      <td>UK pounds</td>\n",
       "      <td>Dirham</td>\n",
       "      <td>UK</td>\n",
       "      <td>UAE</td>\n",
       "      <td>Cross-border</td>\n",
       "      <td>0</td>\n",
       "      <td>Normal_Fan_Out</td>\n",
       "    </tr>\n",
       "    <tr>\n",
       "      <th>2</th>\n",
       "      <td>10:35:20</td>\n",
       "      <td>07/10/2022</td>\n",
       "      <td>287305149</td>\n",
       "      <td>4404767002</td>\n",
       "      <td>14328.44</td>\n",
       "      <td>UK pounds</td>\n",
       "      <td>UK pounds</td>\n",
       "      <td>UK</td>\n",
       "      <td>UK</td>\n",
       "      <td>Cheque</td>\n",
       "      <td>0</td>\n",
       "      <td>Normal_Small_Fan_Out</td>\n",
       "    </tr>\n",
       "    <tr>\n",
       "      <th>3</th>\n",
       "      <td>10:35:21</td>\n",
       "      <td>07/10/2022</td>\n",
       "      <td>5376652437</td>\n",
       "      <td>9600420220</td>\n",
       "      <td>11895.00</td>\n",
       "      <td>UK pounds</td>\n",
       "      <td>UK pounds</td>\n",
       "      <td>UK</td>\n",
       "      <td>UK</td>\n",
       "      <td>ACH</td>\n",
       "      <td>0</td>\n",
       "      <td>Normal_Fan_In</td>\n",
       "    </tr>\n",
       "    <tr>\n",
       "      <th>4</th>\n",
       "      <td>10:35:21</td>\n",
       "      <td>07/10/2022</td>\n",
       "      <td>9614186178</td>\n",
       "      <td>3803336972</td>\n",
       "      <td>115.25</td>\n",
       "      <td>UK pounds</td>\n",
       "      <td>UK pounds</td>\n",
       "      <td>UK</td>\n",
       "      <td>UK</td>\n",
       "      <td>Cash Deposit</td>\n",
       "      <td>0</td>\n",
       "      <td>Normal_Cash_Deposits</td>\n",
       "    </tr>\n",
       "  </tbody>\n",
       "</table>\n",
       "</div>"
      ],
      "text/plain": [
       "       Time        Date  Sender_account  Receiver_account    Amount  \\\n",
       "0  10:35:19  07/10/2022      8724731955        2769355426   1459.15   \n",
       "1  10:35:20  07/10/2022      1491989064        8401255335   6019.64   \n",
       "2  10:35:20  07/10/2022       287305149        4404767002  14328.44   \n",
       "3  10:35:21  07/10/2022      5376652437        9600420220  11895.00   \n",
       "4  10:35:21  07/10/2022      9614186178        3803336972    115.25   \n",
       "\n",
       "  Payment_currency Received_currency Sender_bank_location  \\\n",
       "0        UK pounds         UK pounds                   UK   \n",
       "1        UK pounds            Dirham                   UK   \n",
       "2        UK pounds         UK pounds                   UK   \n",
       "3        UK pounds         UK pounds                   UK   \n",
       "4        UK pounds         UK pounds                   UK   \n",
       "\n",
       "  Receiver_bank_location  Payment_type  Is_laundering       Laundering_type  \n",
       "0                     UK  Cash Deposit              0  Normal_Cash_Deposits  \n",
       "1                    UAE  Cross-border              0        Normal_Fan_Out  \n",
       "2                     UK        Cheque              0  Normal_Small_Fan_Out  \n",
       "3                     UK           ACH              0         Normal_Fan_In  \n",
       "4                     UK  Cash Deposit              0  Normal_Cash_Deposits  "
      ]
     },
     "execution_count": 15,
     "metadata": {},
     "output_type": "execute_result"
    }
   ],
   "source": [
    "# Load the CSV file\n",
    "df = pd.read_csv(\"SAML-D.csv\")\n",
    "df.head()"
   ]
  },
  {
   "cell_type": "markdown",
   "metadata": {
    "id": "WNR8juMubE6h"
   },
   "source": [
    "### 3.Preprocessing the Data"
   ]
  },
  {
   "cell_type": "code",
   "execution_count": 16,
   "metadata": {
    "colab": {
     "base_uri": "https://localhost:8080/",
     "height": 206
    },
    "id": "7XIpofsmbIhT",
    "outputId": "a4e8a5d1-a094-4e31-b7cd-660fe5296db8"
   },
   "outputs": [
    {
     "data": {
      "text/html": [
       "<div>\n",
       "<style scoped>\n",
       "    .dataframe tbody tr th:only-of-type {\n",
       "        vertical-align: middle;\n",
       "    }\n",
       "\n",
       "    .dataframe tbody tr th {\n",
       "        vertical-align: top;\n",
       "    }\n",
       "\n",
       "    .dataframe thead th {\n",
       "        text-align: right;\n",
       "    }\n",
       "</style>\n",
       "<table border=\"1\" class=\"dataframe\">\n",
       "  <thead>\n",
       "    <tr style=\"text-align: right;\">\n",
       "      <th></th>\n",
       "      <th>Sender_account</th>\n",
       "      <th>Receiver_account</th>\n",
       "      <th>Amount</th>\n",
       "      <th>Payment_currency</th>\n",
       "      <th>Is_laundering</th>\n",
       "    </tr>\n",
       "  </thead>\n",
       "  <tbody>\n",
       "    <tr>\n",
       "      <th>0</th>\n",
       "      <td>1.286181</td>\n",
       "      <td>-0.785216</td>\n",
       "      <td>-0.296513</td>\n",
       "      <td>0.163899</td>\n",
       "      <td>-0.030208</td>\n",
       "    </tr>\n",
       "    <tr>\n",
       "      <th>1</th>\n",
       "      <td>-1.216551</td>\n",
       "      <td>1.168581</td>\n",
       "      <td>-0.109958</td>\n",
       "      <td>0.163899</td>\n",
       "      <td>-0.030208</td>\n",
       "    </tr>\n",
       "    <tr>\n",
       "      <th>2</th>\n",
       "      <td>-1.633406</td>\n",
       "      <td>-0.217866</td>\n",
       "      <td>0.229929</td>\n",
       "      <td>0.163899</td>\n",
       "      <td>-0.030208</td>\n",
       "    </tr>\n",
       "    <tr>\n",
       "      <th>3</th>\n",
       "      <td>0.127652</td>\n",
       "      <td>1.584591</td>\n",
       "      <td>0.130385</td>\n",
       "      <td>0.163899</td>\n",
       "      <td>-0.030208</td>\n",
       "    </tr>\n",
       "    <tr>\n",
       "      <th>4</th>\n",
       "      <td>1.593958</td>\n",
       "      <td>-0.426512</td>\n",
       "      <td>-0.351488</td>\n",
       "      <td>0.163899</td>\n",
       "      <td>-0.030208</td>\n",
       "    </tr>\n",
       "  </tbody>\n",
       "</table>\n",
       "</div>"
      ],
      "text/plain": [
       "   Sender_account  Receiver_account    Amount  Payment_currency  Is_laundering\n",
       "0        1.286181         -0.785216 -0.296513          0.163899      -0.030208\n",
       "1       -1.216551          1.168581 -0.109958          0.163899      -0.030208\n",
       "2       -1.633406         -0.217866  0.229929          0.163899      -0.030208\n",
       "3        0.127652          1.584591  0.130385          0.163899      -0.030208\n",
       "4        1.593958         -0.426512 -0.351488          0.163899      -0.030208"
      ]
     },
     "execution_count": 16,
     "metadata": {},
     "output_type": "execute_result"
    }
   ],
   "source": [
    "# Drop missing values\n",
    "df.dropna(inplace=True)\n",
    "\n",
    "# Encode 'Payment_currency' if it exists\n",
    "if 'Payment_currency' in df.columns:\n",
    "    df['Payment_currency'] = LabelEncoder().fit_transform(df['Payment_currency'])\n",
    "\n",
    "# Select numeric columns only\n",
    "numeric_cols = df.select_dtypes(include=[np.number]).columns\n",
    "df_numeric = df[numeric_cols]\n",
    "\n",
    "# Scale numeric values\n",
    "scaler = StandardScaler()\n",
    "df_scaled_values = scaler.fit_transform(df_numeric)\n",
    "\n",
    "# Create scaled DataFrame\n",
    "df_scaled = pd.DataFrame(df_scaled_values, columns=numeric_cols)\n",
    "df_scaled.head()\n",
    "\n",
    "\n"
   ]
  },
  {
   "cell_type": "markdown",
   "metadata": {
    "id": "41CCtL4EbNxr"
   },
   "source": [
    "### 4. Build Autoencoder Model"
   ]
  },
  {
   "cell_type": "code",
   "execution_count": 17,
   "metadata": {
    "colab": {
     "base_uri": "https://localhost:8080/",
     "height": 206
    },
    "id": "zS6wZRryblMQ",
    "outputId": "fafc8ee1-6058-4d2c-f2e3-078325b5e36e"
   },
   "outputs": [
    {
     "data": {
      "text/html": [
       "<div>\n",
       "<style scoped>\n",
       "    .dataframe tbody tr th:only-of-type {\n",
       "        vertical-align: middle;\n",
       "    }\n",
       "\n",
       "    .dataframe tbody tr th {\n",
       "        vertical-align: top;\n",
       "    }\n",
       "\n",
       "    .dataframe thead th {\n",
       "        text-align: right;\n",
       "    }\n",
       "</style>\n",
       "<table border=\"1\" class=\"dataframe\">\n",
       "  <thead>\n",
       "    <tr style=\"text-align: right;\">\n",
       "      <th></th>\n",
       "      <th>Sender_account</th>\n",
       "      <th>Receiver_account</th>\n",
       "      <th>Amount</th>\n",
       "      <th>Payment_currency</th>\n",
       "      <th>Is_laundering</th>\n",
       "    </tr>\n",
       "  </thead>\n",
       "  <tbody>\n",
       "    <tr>\n",
       "      <th>0</th>\n",
       "      <td>1.286181</td>\n",
       "      <td>-0.785216</td>\n",
       "      <td>-0.296513</td>\n",
       "      <td>0.163899</td>\n",
       "      <td>-0.030208</td>\n",
       "    </tr>\n",
       "    <tr>\n",
       "      <th>1</th>\n",
       "      <td>-1.216551</td>\n",
       "      <td>1.168581</td>\n",
       "      <td>-0.109958</td>\n",
       "      <td>0.163899</td>\n",
       "      <td>-0.030208</td>\n",
       "    </tr>\n",
       "    <tr>\n",
       "      <th>2</th>\n",
       "      <td>-1.633406</td>\n",
       "      <td>-0.217866</td>\n",
       "      <td>0.229929</td>\n",
       "      <td>0.163899</td>\n",
       "      <td>-0.030208</td>\n",
       "    </tr>\n",
       "    <tr>\n",
       "      <th>3</th>\n",
       "      <td>0.127652</td>\n",
       "      <td>1.584591</td>\n",
       "      <td>0.130385</td>\n",
       "      <td>0.163899</td>\n",
       "      <td>-0.030208</td>\n",
       "    </tr>\n",
       "    <tr>\n",
       "      <th>4</th>\n",
       "      <td>1.593958</td>\n",
       "      <td>-0.426512</td>\n",
       "      <td>-0.351488</td>\n",
       "      <td>0.163899</td>\n",
       "      <td>-0.030208</td>\n",
       "    </tr>\n",
       "  </tbody>\n",
       "</table>\n",
       "</div>"
      ],
      "text/plain": [
       "   Sender_account  Receiver_account    Amount  Payment_currency  Is_laundering\n",
       "0        1.286181         -0.785216 -0.296513          0.163899      -0.030208\n",
       "1       -1.216551          1.168581 -0.109958          0.163899      -0.030208\n",
       "2       -1.633406         -0.217866  0.229929          0.163899      -0.030208\n",
       "3        0.127652          1.584591  0.130385          0.163899      -0.030208\n",
       "4        1.593958         -0.426512 -0.351488          0.163899      -0.030208"
      ]
     },
     "execution_count": 17,
     "metadata": {},
     "output_type": "execute_result"
    }
   ],
   "source": [
    "# Drop missing values\n",
    "df.dropna(inplace=True)\n",
    "\n",
    "# Encode 'Payment_currency' if it exists\n",
    "if 'Payment_currency' in df.columns:\n",
    "    df['Payment_currency'] = LabelEncoder().fit_transform(df['Payment_currency'])\n",
    "\n",
    "# Select numeric columns only\n",
    "numeric_cols = df.select_dtypes(include=[np.number]).columns\n",
    "df_numeric = df[numeric_cols]\n",
    "\n",
    "# Scale numeric values\n",
    "scaler = StandardScaler()\n",
    "df_scaled_values = scaler.fit_transform(df_numeric)\n",
    "\n",
    "# Create scaled DataFrame\n",
    "df_scaled = pd.DataFrame(df_scaled_values, columns=numeric_cols)\n",
    "df_scaled.head()\n"
   ]
  },
  {
   "cell_type": "markdown",
   "metadata": {
    "id": "aADGsk-TbR8z"
   },
   "source": [
    "### 5.Train Autoencoder"
   ]
  },
  {
   "cell_type": "code",
   "execution_count": 18,
   "metadata": {
    "id": "nYB3nagupknx"
   },
   "outputs": [],
   "source": [
    "from tensorflow.keras.models import Model\n",
    "from tensorflow.keras.layers import Input, Dense\n",
    "\n",
    "# Define the input dimension based on your scaled data\n",
    "input_dim = df_scaled.shape[1]\n",
    "\n",
    "# Build a simple autoencoder\n",
    "input_layer = Input(shape=(input_dim,))\n",
    "encoded = Dense(32, activation='relu')(input_layer)\n",
    "encoded = Dense(16, activation='relu')(encoded)\n",
    "\n",
    "decoded = Dense(32, activation='relu')(encoded)\n",
    "decoded = Dense(input_dim, activation='linear')(decoded)\n",
    "\n",
    "autoencoder = Model(inputs=input_layer, outputs=decoded)\n",
    "autoencoder.compile(optimizer='adam', loss='mse')\n"
   ]
  },
  {
   "cell_type": "markdown",
   "metadata": {
    "id": "c9q7nZoIcGKj"
   },
   "source": [
    "### 6. Plot Training and Validation Loss"
   ]
  },
  {
   "cell_type": "code",
   "execution_count": 20,
   "metadata": {
    "colab": {
     "base_uri": "https://localhost:8080/",
     "height": 1000
    },
    "id": "vS_Ee-0KcbrG",
    "outputId": "8a830cdd-3793-4444-a843-7cda06ef34e7"
   },
   "outputs": [
    {
     "name": "stdout",
     "output_type": "stream",
     "text": [
      "Epoch 1/50\n",
      "\u001b[1m26215/26215\u001b[0m \u001b[32m━━━━━━━━━━━━━━━━━━━━\u001b[0m\u001b[37m\u001b[0m \u001b[1m49s\u001b[0m 2ms/step - loss: 0.0307 - val_loss: 0.0044\n",
      "Epoch 2/50\n",
      "\u001b[1m26215/26215\u001b[0m \u001b[32m━━━━━━━━━━━━━━━━━━━━\u001b[0m\u001b[37m\u001b[0m \u001b[1m41s\u001b[0m 2ms/step - loss: 0.0020 - val_loss: 0.0139\n",
      "Epoch 3/50\n",
      "\u001b[1m26215/26215\u001b[0m \u001b[32m━━━━━━━━━━━━━━━━━━━━\u001b[0m\u001b[37m\u001b[0m \u001b[1m48s\u001b[0m 2ms/step - loss: 0.0016 - val_loss: 0.0012\n",
      "Epoch 4/50\n",
      "\u001b[1m26215/26215\u001b[0m \u001b[32m━━━━━━━━━━━━━━━━━━━━\u001b[0m\u001b[37m\u001b[0m \u001b[1m48s\u001b[0m 2ms/step - loss: 0.0014 - val_loss: 2.8529e-04\n",
      "Epoch 5/50\n",
      "\u001b[1m26215/26215\u001b[0m \u001b[32m━━━━━━━━━━━━━━━━━━━━\u001b[0m\u001b[37m\u001b[0m \u001b[1m41s\u001b[0m 2ms/step - loss: 0.0013 - val_loss: 0.0018\n",
      "Epoch 6/50\n",
      "\u001b[1m26215/26215\u001b[0m \u001b[32m━━━━━━━━━━━━━━━━━━━━\u001b[0m\u001b[37m\u001b[0m \u001b[1m42s\u001b[0m 2ms/step - loss: 0.0025 - val_loss: 9.9588e-04\n",
      "Epoch 7/50\n",
      "\u001b[1m26215/26215\u001b[0m \u001b[32m━━━━━━━━━━━━━━━━━━━━\u001b[0m\u001b[37m\u001b[0m \u001b[1m43s\u001b[0m 2ms/step - loss: 0.0014 - val_loss: 8.2566e-04\n",
      "Epoch 8/50\n",
      "\u001b[1m26215/26215\u001b[0m \u001b[32m━━━━━━━━━━━━━━━━━━━━\u001b[0m\u001b[37m\u001b[0m \u001b[1m46s\u001b[0m 2ms/step - loss: 0.0011 - val_loss: 7.1780e-04\n",
      "Epoch 9/50\n",
      "\u001b[1m26215/26215\u001b[0m \u001b[32m━━━━━━━━━━━━━━━━━━━━\u001b[0m\u001b[37m\u001b[0m \u001b[1m48s\u001b[0m 2ms/step - loss: 0.0015 - val_loss: 6.6601e-04\n"
     ]
    },
    {
     "data": {
      "image/png": "[encoded data removed]",
      "text/plain": [
       "<Figure size 640x480 with 1 Axes>"
      ]
     },
     "metadata": {},
     "output_type": "display_data"
    }
   ],
   "source": [
    "# Set early stopping callback\n",
    "from tensorflow.keras.callbacks import EarlyStopping\n",
    "\n",
    "early_stopping = EarlyStopping(\n",
    "    monitor='val_loss',\n",
    "    patience=5,\n",
    "    restore_best_weights=True\n",
    ")\n",
    "\n",
    "# Train autoencoder\n",
    "history = autoencoder.fit(\n",
    "    df_scaled, df_scaled,\n",
    "    epochs=50,\n",
    "    batch_size=32,\n",
    "    validation_split=0.2,\n",
    "    shuffle=True,\n",
    "    verbose=1,\n",
    "    callbacks=[early_stopping]\n",
    ")\n",
    "\n",
    "# Plot training and validation loss\n",
    "plt.plot(history.history['loss'], label='Train Loss')\n",
    "plt.plot(history.history['val_loss'], label='Val Loss')\n",
    "plt.title('Autoencoder Loss')\n",
    "plt.xlabel('Epoch')\n",
    "plt.ylabel('Loss')\n",
    "plt.legend()\n",
    "plt.show()"
   ]
  },
  {
   "cell_type": "markdown",
   "metadata": {
    "id": "qm03o3U8co6M"
   },
   "source": [
    "### 7. Compute Reconstruction Error"
   ]
  },
  {
   "cell_type": "code",
   "execution_count": 21,
   "metadata": {
    "colab": {
     "base_uri": "https://localhost:8080/"
    },
    "id": "4ijwTneBctAS",
    "outputId": "922e50e9-4e29-4087-b3a5-3c1a7f7ecbc8"
   },
   "outputs": [
    {
     "name": "stdout",
     "output_type": "stream",
     "text": [
      "\u001b[1m32768/32768\u001b[0m \u001b[32m━━━━━━━━━━━━━━━━━━━━\u001b[0m\u001b[37m\u001b[0m \u001b[1m28s\u001b[0m 862us/step\n"
     ]
    }
   ],
   "source": [
    "# Predict and calculate reconstruction error\n",
    "reconstructions = autoencoder.predict(df_scaled)\n",
    "mse = np.mean(np.square(df_scaled - reconstructions), axis=1)\n",
    "\n",
    "# Add error to dataframe\n",
    "df_scaled['reconstruction_error'] = mse\n",
    "\n"
   ]
  },
  {
   "cell_type": "markdown",
   "metadata": {
    "id": "B5d99En_czTf"
   },
   "source": [
    "### 8. Detect Anomalies Based on Threshold"
   ]
  },
  {
   "cell_type": "code",
   "execution_count": null,
   "metadata": {
    "colab": {
     "base_uri": "https://localhost:8080/",
     "height": 224
    },
    "id": "Zw3Hnq1xcxOE",
    "outputId": "7b0536d5-fd52-456d-f656-4b6877754086"
   },
   "outputs": [
    {
     "name": "stdout",
     "output_type": "stream",
     "text": [
      "Anomalies Detected: 9508\n"
     ]
    },
    {
     "data": {
      "application/vnd.google.colaboratory.intrinsic+json": {
       "summary": "{\n  \"name\": \"df_scaled[['reconstruction_error', 'anomaly']]\",\n  \"rows\": 5,\n  \"fields\": [\n    {\n      \"column\": \"reconstruction_error\",\n      \"properties\": {\n        \"dtype\": \"number\",\n        \"std\": 7.378075322724868e-05,\n        \"min\": 1.7948588480528205e-05,\n        \"max\": 0.00018228197470070528,\n        \"num_unique_values\": 5,\n        \"samples\": [\n          1.7948588480528205e-05,\n          0.00011386386096375509,\n          0.00018228197470070528\n        ],\n        \"semantic_type\": \"\",\n        \"description\": \"\"\n      }\n    },\n    {\n      \"column\": \"anomaly\",\n      \"properties\": {\n        \"dtype\": \"number\",\n        \"std\": 0,\n        \"min\": 0,\n        \"max\": 0,\n        \"num_unique_values\": 1,\n        \"samples\": [\n          0\n        ],\n        \"semantic_type\": \"\",\n        \"description\": \"\"\n      }\n    }\n  ]\n}",
       "type": "dataframe"
      },
      "text/html": [
       "\n",
       "  <div id=\"df-0be6578a-41b3-4b76-8e74-735840661f5a\" class=\"colab-df-container\">\n",
       "    <div>\n",
       "<style scoped>\n",
       "    .dataframe tbody tr th:only-of-type {\n",
       "        vertical-align: middle;\n",
       "    }\n",
       "\n",
       "    .dataframe tbody tr th {\n",
       "        vertical-align: top;\n",
       "    }\n",
       "\n",
       "    .dataframe thead th {\n",
       "        text-align: right;\n",
       "    }\n",
       "</style>\n",
       "<table border=\"1\" class=\"dataframe\">\n",
       "  <thead>\n",
       "    <tr style=\"text-align: right;\">\n",
       "      <th></th>\n",
       "      <th>reconstruction_error</th>\n",
       "      <th>anomaly</th>\n",
       "    </tr>\n",
       "  </thead>\n",
       "  <tbody>\n",
       "    <tr>\n",
       "      <th>0</th>\n",
       "      <td>0.000052</td>\n",
       "      <td>0</td>\n",
       "    </tr>\n",
       "    <tr>\n",
       "      <th>1</th>\n",
       "      <td>0.000018</td>\n",
       "      <td>0</td>\n",
       "    </tr>\n",
       "    <tr>\n",
       "      <th>2</th>\n",
       "      <td>0.000182</td>\n",
       "      <td>0</td>\n",
       "    </tr>\n",
       "    <tr>\n",
       "      <th>3</th>\n",
       "      <td>0.000178</td>\n",
       "      <td>0</td>\n",
       "    </tr>\n",
       "    <tr>\n",
       "      <th>4</th>\n",
       "      <td>0.000114</td>\n",
       "      <td>0</td>\n",
       "    </tr>\n",
       "  </tbody>\n",
       "</table>\n",
       "</div>\n",
       "    <div class=\"colab-df-buttons\">\n",
       "\n",
       "  <div class=\"colab-df-container\">\n",
       "    <button class=\"colab-df-convert\" onclick=\"convertToInteractive('df-0be6578a-41b3-4b76-8e74-735840661f5a')\"\n",
       "            title=\"Convert this dataframe to an interactive table.\"\n",
       "            style=\"display:none;\">\n",
       "\n",
       "  <svg xmlns=\"http://www.w3.org/2000/svg\" height=\"24px\" viewBox=\"0 -960 960 960\">\n",
       "    <path d=\"M120-120v-720h720v720H120Zm60-500h600v-160H180v160Zm220 220h160v-160H400v160Zm0 220h160v-160H400v160ZM180-400h160v-160H180v160Zm440 0h160v-160H620v160ZM180-180h160v-160H180v160Zm440 0h160v-160H620v160Z\"/>\n",
       "  </svg>\n",
       "    </button>\n",
       "\n",
       "  <style>\n",
       "    .colab-df-container {\n",
       "      display:flex;\n",
       "      gap: 12px;\n",
       "    }\n",
       "\n",
       "    .colab-df-convert {\n",
       "      background-color: #E8F0FE;\n",
       "      border: none;\n",
       "      border-radius: 50%;\n",
       "      cursor: pointer;\n",
       "      display: none;\n",
       "      fill: #1967D2;\n",
       "      height: 32px;\n",
       "      padding: 0 0 0 0;\n",
       "      width: 32px;\n",
       "    }\n",
       "\n",
       "    .colab-df-convert:hover {\n",
       "      background-color: #E2EBFA;\n",
       "      box-shadow: 0px 1px 2px rgba(60, 64, 67, 0.3), 0px 1px 3px 1px rgba(60, 64, 67, 0.15);\n",
       "      fill: #174EA6;\n",
       "    }\n",
       "\n",
       "    .colab-df-buttons div {\n",
       "      margin-bottom: 4px;\n",
       "    }\n",
       "\n",
       "    [theme=dark] .colab-df-convert {\n",
       "      background-color: #3B4455;\n",
       "      fill: #D2E3FC;\n",
       "    }\n",
       "\n",
       "    [theme=dark] .colab-df-convert:hover {\n",
       "      background-color: #434B5C;\n",
       "      box-shadow: 0px 1px 3px 1px rgba(0, 0, 0, 0.15);\n",
       "      filter: drop-shadow(0px 1px 2px rgba(0, 0, 0, 0.3));\n",
       "      fill: #FFFFFF;\n",
       "    }\n",
       "  </style>\n",
       "\n",
       "    <script>\n",
       "      const buttonEl =\n",
       "        document.querySelector('#df-0be6578a-41b3-4b76-8e74-735840661f5a button.colab-df-convert');\n",
       "      buttonEl.style.display =\n",
       "        google.colab.kernel.accessAllowed ? 'block' : 'none';\n",
       "\n",
       "      async function convertToInteractive(key) {\n",
       "        const element = document.querySelector('#df-0be6578a-41b3-4b76-8e74-735840661f5a');\n",
       "        const dataTable =\n",
       "          await google.colab.kernel.invokeFunction('convertToInteractive',\n",
       "                                                    [key], {});\n",
       "        if (!dataTable) return;\n",
       "\n",
       "        const docLinkHtml = 'Like what you see? Visit the ' +\n",
       "          '<a target=\"_blank\" href=https://colab.research.google.com/notebooks/data_table.ipynb>data table notebook</a>'\n",
       "          + ' to learn more about interactive tables.';\n",
       "        element.innerHTML = '';\n",
       "        dataTable['output_type'] = 'display_data';\n",
       "        await google.colab.output.renderOutput(dataTable, element);\n",
       "        const docLink = document.createElement('div');\n",
       "        docLink.innerHTML = docLinkHtml;\n",
       "        element.appendChild(docLink);\n",
       "      }\n",
       "    </script>\n",
       "  </div>\n",
       "\n",
       "\n",
       "<div id=\"df-01e3ed87-da0b-4200-a044-772180949130\">\n",
       "  <button class=\"colab-df-quickchart\" onclick=\"quickchart('df-01e3ed87-da0b-4200-a044-772180949130')\"\n",
       "            title=\"Suggest charts\"\n",
       "            style=\"display:none;\">\n",
       "\n",
       "<svg xmlns=\"http://www.w3.org/2000/svg\" height=\"24px\"viewBox=\"0 0 24 24\"\n",
       "     width=\"24px\">\n",
       "    <g>\n",
       "        <path d=\"M19 3H5c-1.1 0-2 .9-2 2v14c0 1.1.9 2 2 2h14c1.1 0 2-.9 2-2V5c0-1.1-.9-2-2-2zM9 17H7v-7h2v7zm4 0h-2V7h2v10zm4 0h-2v-4h2v4z\"/>\n",
       "    </g>\n",
       "</svg>\n",
       "  </button>\n",
       "\n",
       "<style>\n",
       "  .colab-df-quickchart {\n",
       "      --bg-color: #E8F0FE;\n",
       "      --fill-color: #1967D2;\n",
       "      --hover-bg-color: #E2EBFA;\n",
       "      --hover-fill-color: #174EA6;\n",
       "      --disabled-fill-color: #AAA;\n",
       "      --disabled-bg-color: #DDD;\n",
       "  }\n",
       "\n",
       "  [theme=dark] .colab-df-quickchart {\n",
       "      --bg-color: #3B4455;\n",
       "      --fill-color: #D2E3FC;\n",
       "      --hover-bg-color: #434B5C;\n",
       "      --hover-fill-color: #FFFFFF;\n",
       "      --disabled-bg-color: #3B4455;\n",
       "      --disabled-fill-color: #666;\n",
       "  }\n",
       "\n",
       "  .colab-df-quickchart {\n",
       "    background-color: var(--bg-color);\n",
       "    border: none;\n",
       "    border-radius: 50%;\n",
       "    cursor: pointer;\n",
       "    display: none;\n",
       "    fill: var(--fill-color);\n",
       "    height: 32px;\n",
       "    padding: 0;\n",
       "    width: 32px;\n",
       "  }\n",
       "\n",
       "  .colab-df-quickchart:hover {\n",
       "    background-color: var(--hover-bg-color);\n",
       "    box-shadow: 0 1px 2px rgba(60, 64, 67, 0.3), 0 1px 3px 1px rgba(60, 64, 67, 0.15);\n",
       "    fill: var(--button-hover-fill-color);\n",
       "  }\n",
       "\n",
       "  .colab-df-quickchart-complete:disabled,\n",
       "  .colab-df-quickchart-complete:disabled:hover {\n",
       "    background-color: var(--disabled-bg-color);\n",
       "    fill: var(--disabled-fill-color);\n",
       "    box-shadow: none;\n",
       "  }\n",
       "\n",
       "  .colab-df-spinner {\n",
       "    border: 2px solid var(--fill-color);\n",
       "    border-color: transparent;\n",
       "    border-bottom-color: var(--fill-color);\n",
       "    animation:\n",
       "      spin 1s steps(1) infinite;\n",
       "  }\n",
       "\n",
       "  @keyframes spin {\n",
       "    0% {\n",
       "      border-color: transparent;\n",
       "      border-bottom-color: var(--fill-color);\n",
       "      border-left-color: var(--fill-color);\n",
       "    }\n",
       "    20% {\n",
       "      border-color: transparent;\n",
       "      border-left-color: var(--fill-color);\n",
       "      border-top-color: var(--fill-color);\n",
       "    }\n",
       "    30% {\n",
       "      border-color: transparent;\n",
       "      border-left-color: var(--fill-color);\n",
       "      border-top-color: var(--fill-color);\n",
       "      border-right-color: var(--fill-color);\n",
       "    }\n",
       "    40% {\n",
       "      border-color: transparent;\n",
       "      border-right-color: var(--fill-color);\n",
       "      border-top-color: var(--fill-color);\n",
       "    }\n",
       "    60% {\n",
       "      border-color: transparent;\n",
       "      border-right-color: var(--fill-color);\n",
       "    }\n",
       "    80% {\n",
       "      border-color: transparent;\n",
       "      border-right-color: var(--fill-color);\n",
       "      border-bottom-color: var(--fill-color);\n",
       "    }\n",
       "    90% {\n",
       "      border-color: transparent;\n",
       "      border-bottom-color: var(--fill-color);\n",
       "    }\n",
       "  }\n",
       "</style>\n",
       "\n",
       "  <script>\n",
       "    async function quickchart(key) {\n",
       "      const quickchartButtonEl =\n",
       "        document.querySelector('#' + key + ' button');\n",
       "      quickchartButtonEl.disabled = true;  // To prevent multiple clicks.\n",
       "      quickchartButtonEl.classList.add('colab-df-spinner');\n",
       "      try {\n",
       "        const charts = await google.colab.kernel.invokeFunction(\n",
       "            'suggestCharts', [key], {});\n",
       "      } catch (error) {\n",
       "        console.error('Error during call to suggestCharts:', error);\n",
       "      }\n",
       "      quickchartButtonEl.classList.remove('colab-df-spinner');\n",
       "      quickchartButtonEl.classList.add('colab-df-quickchart-complete');\n",
       "    }\n",
       "    (() => {\n",
       "      let quickchartButtonEl =\n",
       "        document.querySelector('#df-01e3ed87-da0b-4200-a044-772180949130 button');\n",
       "      quickchartButtonEl.style.display =\n",
       "        google.colab.kernel.accessAllowed ? 'block' : 'none';\n",
       "    })();\n",
       "  </script>\n",
       "</div>\n",
       "\n",
       "    </div>\n",
       "  </div>\n"
      ],
      "text/plain": [
       "   reconstruction_error  anomaly\n",
       "0              0.000052        0\n",
       "1              0.000018        0\n",
       "2              0.000182        0\n",
       "3              0.000178        0\n",
       "4              0.000114        0"
      ]
     },
     "execution_count": 22,
     "metadata": {},
     "output_type": "execute_result"
    }
   ],
   "source": [
    "# Set threshold and detect anomalies\n",
    "threshold = np.percentile(mse, 95)\n",
    "df_scaled['anomaly'] = (df_scaled['reconstruction_error'] > threshold).astype(int)\n",
    "\n",
    "print(\"Anomalies Detected:\", df_scaled['anomaly'].sum())\n",
    "df_scaled[['reconstruction_error', 'anomaly']].head()\n"
   ]
  },
  {
   "cell_type": "markdown",
   "metadata": {
    "id": "eAM7jo7sdBQK"
   },
   "source": [
    "## LIGHTGBM-BASED CLASSIFICATION MODEL"
   ]
  },
  {
   "cell_type": "markdown",
   "metadata": {
    "id": "wh7o4CMwdP_K"
   },
   "source": [
    "### 1. Import librarise"
   ]
  },
  {
   "cell_type": "code",
   "execution_count": null,
   "metadata": {
    "colab": {
     "base_uri": "https://localhost:8080/",
     "height": 1000
    },
    "id": "ZZAhwd-8hPrd",
    "outputId": "08b3f388-921d-4705-d112-744b3c423821"
   },
   "outputs": [
    {
     "name": "stdout",
     "output_type": "stream",
     "text": [
      "Training until validation scores don't improve for 10 rounds\n",
      "Did not meet early stopping. Best iteration is:\n",
      "[100]\tvalid_0's binary_logloss: 0.0151106\n",
      "Accuracy: 0.995792905787384\n",
      "Precision: 0.9626218851570965\n",
      "Recall: 0.9512847965738758\n",
      "F1 Score: 0.9569197630586969\n",
      "\n",
      "Classification Report:\n",
      "               precision    recall  f1-score   support\n",
      "\n",
      "           0       1.00      1.00      1.00     36163\n",
      "           1       0.96      0.95      0.96      1868\n",
      "\n",
      "    accuracy                           1.00     38031\n",
      "   macro avg       0.98      0.97      0.98     38031\n",
      "weighted avg       1.00      1.00      1.00     38031\n",
      "\n"
     ]
    },
    {
     "data": {
      "image/png": "[encoded data removed]",
      "text/plain": [
       "<Figure size 600x400 with 2 Axes>"
      ]
     },
     "metadata": {},
     "output_type": "display_data"
    },
    {
     "data": {
      "image/png": "[encoded data removed]",
      "text/plain": [
       "<Figure size 640x480 with 1 Axes>"
      ]
     },
     "metadata": {},
     "output_type": "display_data"
    }
   ],
   "source": [
    "import lightgbm as lgb\n",
    "from lightgbm import early_stopping, log_evaluation\n",
    "import pandas as pd\n",
    "import numpy as np\n",
    "from sklearn.model_selection import train_test_split\n",
    "from sklearn.metrics import accuracy_score, precision_score, recall_score, f1_score, confusion_matrix, classification_report\n",
    "import matplotlib.pyplot as plt\n",
    "import seaborn as sns\n",
    "\n",
    "# Example placeholder (replace with your actual data)\n",
    "# df = pd.read_csv(\"your_dataset.csv\")\n",
    "# X = df.drop('target', axis=1)\n",
    "# y = df['target']\n",
    "\n",
    "# Train-test split\n",
    "X_train, X_test, y_train, y_test = train_test_split(X, y, test_size=0.2, random_state=42)\n",
    "\n",
    "# Define model\n",
    "model = lgb.LGBMClassifier(\n",
    "    objective='binary',\n",
    "    n_estimators=100,\n",
    "    verbosity=-1\n",
    ")\n",
    "\n",
    "# Fit model using callbacks for early stopping\n",
    "model.fit(\n",
    "    X_train, y_train,\n",
    "    eval_set=[(X_test, y_test)],\n",
    "    eval_metric='binary_logloss',\n",
    "    callbacks=[lgb.callback.early_stopping(stopping_rounds=10), lgb.callback.log_evaluation(0)]\n",
    ")\n",
    "\n",
    "# Predictions\n",
    "y_pred = model.predict(X_test)\n",
    "\n",
    "# Evaluation\n",
    "print(\"Accuracy:\", accuracy_score(y_test, y_pred))\n",
    "print(\"Precision:\", precision_score(y_test, y_pred))\n",
    "print(\"Recall:\", recall_score(y_test, y_pred))\n",
    "print(\"F1 Score:\", f1_score(y_test, y_pred))\n",
    "print(\"\\nClassification Report:\\n\", classification_report(y_test, y_pred))\n",
    "\n",
    "# Confusion matrix\n",
    "cm = confusion_matrix(y_test, y_pred)\n",
    "plt.figure(figsize=(6, 4))\n",
    "sns.heatmap(cm, annot=True, fmt='d', cmap='Blues')\n",
    "plt.title('Confusion Matrix')\n",
    "plt.xlabel('Predicted')\n",
    "plt.ylabel('Actual')\n",
    "plt.show()\n",
    "\n",
    "# Feature importance\n",
    "lgb.plot_importance(model, max_num_features=10, importance_type='gain', title='Top 10 Feature Importances')\n",
    "plt.show()\n"
   ]
  },
  {
   "cell_type": "markdown",
   "metadata": {
    "id": "xAf3p7Y0hXX8"
   },
   "source": [
    "### 2. Evaluate Model"
   ]
  },
  {
   "cell_type": "code",
   "execution_count": null,
   "metadata": {
    "colab": {
     "base_uri": "https://localhost:8080/"
    },
    "id": "_ZHaPj9Mhaoh",
    "outputId": "2099e53f-32c0-42e8-e411-08c18d9b89ea"
   },
   "outputs": [
    {
     "name": "stdout",
     "output_type": "stream",
     "text": [
      "              precision    recall  f1-score   support\n",
      "\n",
      "           0       1.00      1.00      1.00     36163\n",
      "           1       0.96      0.95      0.96      1868\n",
      "\n",
      "    accuracy                           1.00     38031\n",
      "   macro avg       0.98      0.97      0.98     38031\n",
      "weighted avg       1.00      1.00      1.00     38031\n",
      "\n"
     ]
    }
   ],
   "source": [
    "# Predict and convert to binary\n",
    "y_pred = model.predict(X_test)\n",
    "y_pred_binary = (y_pred > 0.5).astype(int)\n",
    "\n",
    "# Print classification report\n",
    "print(classification_report(y_test, y_pred_binary))\n"
   ]
  },
  {
   "cell_type": "markdown",
   "metadata": {
    "id": "CZiH5wCjd9LL"
   },
   "source": [
    "### 3. Confusion Matrix"
   ]
  },
  {
   "cell_type": "code",
   "execution_count": null,
   "metadata": {
    "colab": {
     "base_uri": "https://localhost:8080/",
     "height": 472
    },
    "id": "3Blmbpp-d8j-",
    "outputId": "3d4dd1b3-eec2-40e7-f093-ba24862e1092"
   },
   "outputs": [
    {
     "data": {
      "image/png": "[encoded data removed]",
      "text/plain": [
       "<Figure size 640x480 with 2 Axes>"
      ]
     },
     "metadata": {},
     "output_type": "display_data"
    }
   ],
   "source": [
    "sns.heatmap(confusion_matrix(y_test, y_pred_binary), annot=True, fmt='d', cmap='Blues')\n",
    "plt.title('LightGBM Confusion Matrix')\n",
    "plt.xlabel('Predicted')\n",
    "plt.ylabel('Actual')\n",
    "plt.show()\n",
    "\n"
   ]
  },
  {
   "cell_type": "markdown",
   "metadata": {
    "id": "I_S9Wu7veKyj"
   },
   "source": [
    "### 4.  Feature Importance"
   ]
  },
  {
   "cell_type": "code",
   "execution_count": null,
   "metadata": {
    "colab": {
     "base_uri": "https://localhost:8080/",
     "height": 472
    },
    "id": "8538jxFbeG7n",
    "outputId": "17801e85-ec9a-4874-9e49-42a74f7c8b72"
   },
   "outputs": [
    {
     "data": {
      "image/png": "[encoded data removed]",
      "text/plain": [
       "<Figure size 640x480 with 1 Axes>"
      ]
     },
     "metadata": {},
     "output_type": "display_data"
    }
   ],
   "source": [
    "lgb.plot_importance(model, max_num_features=10)\n",
    "plt.title(\"LightGBM Feature Importance\")\n",
    "plt.show()\n"
   ]
  }
 ],
 "metadata": {
  "colab": {
   "provenance": []
  },
  "kernelspec": {
   "display_name": ".venv",
   "language": "python",
   "name": "python3"
  },
  "language_info": {
   "codemirror_mode": {
    "name": "ipython",
    "version": 3
   },
   "file_extension": ".py",
   "mimetype": "text/x-python",
   "name": "python",
   "nbconvert_exporter": "python",
   "pygments_lexer": "ipython3",
   "version": "3.9.6"
  }
 },
 "nbformat": 4,
 "nbformat_minor": 0
}
