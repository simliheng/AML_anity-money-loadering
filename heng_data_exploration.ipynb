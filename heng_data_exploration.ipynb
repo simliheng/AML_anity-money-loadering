{
 "cells": [
  {
   "cell_type": "markdown",
   "metadata": {
    "id": "_9HPECJvCUO8"
   },
   "source": [
    "#### Step 1: Data Exploration"
   ]
  },
  {
   "cell_type": "code",
   "execution_count": 3,
   "metadata": {
    "id": "TtSsSIHpC4MJ"
   },
   "outputs": [],
   "source": [
    "import pandas as pd\n",
    "import matplotlib.pyplot as plt\n",
    "import seaborn as sns\n",
    "\n",
    "# Load the dataset (replace 'path_to_dataset.csv' with the actual file path)\n",
    "# Assuming the dataset is in CSV format after downloading from IEEE Xplore\n",
    "df =pd.read_csv('SAML-D.csv')"
   ]
  },
  {
   "cell_type": "code",
   "execution_count": 4,
   "metadata": {
    "colab": {
     "base_uri": "https://localhost:8080/"
    },
    "id": "BDr2hhsWCUO-",
    "outputId": "84d55404-cd0b-46ba-aad9-36849c65687f"
   },
   "outputs": [
    {
     "name": "stdout",
     "output_type": "stream",
     "text": [
      "Dataset Info:\n",
      "<class 'pandas.core.frame.DataFrame'>\n",
      "RangeIndex: 1048575 entries, 0 to 1048574\n",
      "Data columns (total 12 columns):\n",
      " #   Column                  Non-Null Count    Dtype  \n",
      "---  ------                  --------------    -----  \n",
      " 0   Time                    1048575 non-null  object \n",
      " 1   Date                    1048575 non-null  object \n",
      " 2   Sender_account          1048575 non-null  int64  \n",
      " 3   Receiver_account        1048575 non-null  int64  \n",
      " 4   Amount                  1048575 non-null  float64\n",
      " 5   Payment_currency        1048575 non-null  object \n",
      " 6   Received_currency       1048575 non-null  object \n",
      " 7   Sender_bank_location    1048575 non-null  object \n",
      " 8   Receiver_bank_location  1048575 non-null  object \n",
      " 9   Payment_type            1048575 non-null  object \n",
      " 10  Is_laundering           1048575 non-null  int64  \n",
      " 11  Laundering_type         1048575 non-null  object \n",
      "dtypes: float64(1), int64(3), object(8)\n",
      "memory usage: 96.0+ MB\n",
      "None\n",
      "\n",
      "First 5 Rows:\n",
      "       Time        Date  Sender_account  Receiver_account    Amount  \\\n",
      "0  10:35:19  07/10/2022      8724731955        2769355426   1459.15   \n",
      "1  10:35:20  07/10/2022      1491989064        8401255335   6019.64   \n",
      "2  10:35:20  07/10/2022       287305149        4404767002  14328.44   \n",
      "3  10:35:21  07/10/2022      5376652437        9600420220  11895.00   \n",
      "4  10:35:21  07/10/2022      9614186178        3803336972    115.25   \n",
      "\n",
      "  Payment_currency Received_currency Sender_bank_location  \\\n",
      "0        UK pounds         UK pounds                   UK   \n",
      "1        UK pounds            Dirham                   UK   \n",
      "2        UK pounds         UK pounds                   UK   \n",
      "3        UK pounds         UK pounds                   UK   \n",
      "4        UK pounds         UK pounds                   UK   \n",
      "\n",
      "  Receiver_bank_location  Payment_type  Is_laundering       Laundering_type  \n",
      "0                     UK  Cash Deposit              0  Normal_Cash_Deposits  \n",
      "1                    UAE  Cross-border              0        Normal_Fan_Out  \n",
      "2                     UK        Cheque              0  Normal_Small_Fan_Out  \n",
      "3                     UK           ACH              0         Normal_Fan_In  \n",
      "4                     UK  Cash Deposit              0  Normal_Cash_Deposits  \n",
      "\n",
      "Summary Statistics:\n",
      "       Sender_account  Receiver_account        Amount  Is_laundering\n",
      "count    1.048575e+06      1.048575e+06  1.048575e+06   1.048575e+06\n",
      "mean     5.007747e+09      5.032774e+09  8.707645e+03   9.117135e-04\n",
      "std      2.889940e+09      2.882542e+09  2.444582e+04   3.018084e-02\n",
      "min      9.217200e+04      4.823800e+04  5.190000e+00   0.000000e+00\n",
      "25%      2.501276e+09      2.528695e+09  2.114535e+03   0.000000e+00\n",
      "50%      4.999680e+09      5.042954e+09  6.104870e+03   0.000000e+00\n",
      "75%      7.509491e+09      7.543159e+09  1.034893e+04   0.000000e+00\n",
      "max      9.999913e+09      9.999971e+09  6.213932e+06   1.000000e+00\n"
     ]
    }
   ],
   "source": [
    "\n",
    "# Display basic information about the dataset\n",
    "print(\"Dataset Info:\")\n",
    "print(df.info())\n",
    "print(\"\\nFirst 5 Rows:\")\n",
    "print(df.head())\n",
    "print(\"\\nSummary Statistics:\")\n",
    "print(df.describe())"
   ]
  },
  {
   "cell_type": "markdown",
   "metadata": {
    "id": "iTvL7firCUO-"
   },
   "source": [
    "#### Step 2: How Many Data Have Features and Their Correlation"
   ]
  },
  {
   "cell_type": "markdown",
   "metadata": {
    "id": "MzQ1MH9ZCUO_"
   },
   "source": [
    "##### - Features: Identify how many data points have values for each feature (non-null counts).\n",
    "##### - Correlation: Calculate the correlation between numerical features to see how they relate."
   ]
  },
  {
   "cell_type": "code",
   "execution_count": 5,
   "metadata": {
    "colab": {
     "base_uri": "https://localhost:8080/",
     "height": 1000
    },
    "id": "EJwFPY7TCUO_",
    "outputId": "4e8770be-5574-4033-e452-59b1559c786c"
   },
   "outputs": [
    {
     "name": "stdout",
     "output_type": "stream",
     "text": [
      "\n",
      "Missing Values per Feature:\n",
      "Time                      0\n",
      "Date                      0\n",
      "Sender_account            0\n",
      "Receiver_account          0\n",
      "Amount                    0\n",
      "Payment_currency          0\n",
      "Received_currency         0\n",
      "Sender_bank_location      0\n",
      "Receiver_bank_location    0\n",
      "Payment_type              0\n",
      "Is_laundering             0\n",
      "Laundering_type           0\n",
      "dtype: int64\n",
      "\n",
      "Non-Null Counts per Feature:\n",
      "Time                      1048575\n",
      "Date                      1048575\n",
      "Sender_account            1048575\n",
      "Receiver_account          1048575\n",
      "Amount                    1048575\n",
      "Payment_currency          1048575\n",
      "Received_currency         1048575\n",
      "Sender_bank_location      1048575\n",
      "Receiver_bank_location    1048575\n",
      "Payment_type              1048575\n",
      "Is_laundering             1048575\n",
      "Laundering_type           1048575\n",
      "dtype: int64\n",
      "\n",
      "Correlation Matrix:\n",
      "                  Sender_account  Receiver_account    Amount  Is_laundering\n",
      "Sender_account          1.000000         -0.000779  0.000961       0.003103\n",
      "Receiver_account       -0.000779          1.000000  0.000951      -0.001941\n",
      "Amount                  0.000961          0.000951  1.000000       0.034432\n",
      "Is_laundering           0.003103         -0.001941  0.034432       1.000000\n"
     ]
    },
    {
     "data": {
      "image/png": "[encoded data removed]",
      "text/plain": [
       "<Figure size 1000x800 with 2 Axes>"
      ]
     },
     "metadata": {},
     "output_type": "display_data"
    }
   ],
   "source": [
    "# Check for missing values in each feature\n",
    "print(\"\\nMissing Values per Feature:\")\n",
    "print(df.isnull().sum())\n",
    "\n",
    "# Number of data points with non-null values for each feature\n",
    "print(\"\\nNon-Null Counts per Feature:\")\n",
    "print(df.count())\n",
    "\n",
    "# Select only numerical columns for correlation\n",
    "numerical_df = df.select_dtypes(include=['float64', 'int64'])\n",
    "\n",
    "# Compute correlation matrix\n",
    "correlation_matrix = numerical_df.corr()\n",
    "print(\"\\nCorrelation Matrix:\")\n",
    "print(correlation_matrix)\n",
    "\n",
    "# Visualize correlation matrix\n",
    "plt.figure(figsize=(10, 8))\n",
    "sns.heatmap(correlation_matrix, annot=True, cmap='coolwarm', fmt='.2f')\n",
    "plt.title(\"Correlation Matrix of Numerical Features\")\n",
    "plt.show()"
   ]
  },
  {
   "cell_type": "markdown",
   "metadata": {
    "id": "j3I0lOyHCUO_"
   },
   "source": [
    "#### Step 3: Label Dataset (Counting as Transaction Category AML)"
   ]
  },
  {
   "cell_type": "code",
   "execution_count": 6,
   "metadata": {
    "colab": {
     "base_uri": "https://localhost:8080/"
    },
    "id": "h4L00s4LCUO_",
    "outputId": "c3487604-16a1-4eb9-b06d-be541aa9154b"
   },
   "outputs": [
    {
     "name": "stdout",
     "output_type": "stream",
     "text": [
      "Error: 'typology' column is missing or contains only NaN values.\n"
     ]
    }
   ],
   "source": [
    "# Ensure 'typology' exists in the DataFrame\n",
    "if 'typology' in df.columns and not df['typology'].isna().all():\n",
    "    # Drop missing values from 'typology'\n",
    "    df = df.dropna(subset=['typology'])\n",
    "\n",
    "    # Convert 'typology' to string\n",
    "    df['typology'] = df['typology'].astype(str)\n",
    "\n",
    "    # Count occurrences of each typology\n",
    "    label_counts = df['typology'].value_counts()\n",
    "\n",
    "    print(\"\\nTransaction Counts by AML Typology:\")\n",
    "    print(label_counts)\n",
    "\n",
    "    # Visualize label distribution\n",
    "    plt.figure(figsize=(12, 6))\n",
    "    label_counts.plot(kind='bar', color='coral')\n",
    "    plt.title(\"Distribution of AML Typologies\")\n",
    "    plt.xlabel(\"Typology\")\n",
    "    plt.ylabel(\"Count\")\n",
    "    plt.xticks(rotation=45, ha='right')\n",
    "    plt.tight_layout()\n",
    "    plt.show()\n",
    "else:\n",
    "    print(\"Error: 'typology' column is missing or contains only NaN values.\")\n"
   ]
  },
  {
   "cell_type": "markdown",
   "metadata": {
    "id": "6G7MFHOYCUO_"
   },
   "source": [
    "#### Step 4: Money Laundering Presence (Many or Don’t Have)"
   ]
  },
  {
   "cell_type": "code",
   "execution_count": 7,
   "metadata": {
    "colab": {
     "base_uri": "https://localhost:8080/"
    },
    "id": "SMJTltUCCUO_",
    "outputId": "aa2cea2e-072c-44a2-d562-f90a2dca7995"
   },
   "outputs": [
    {
     "name": "stdout",
     "output_type": "stream",
     "text": [
      "\n",
      "All transactions may be ML-related, as this is a synthetic AML dataset.\n",
      "Total transactions: 1048575\n"
     ]
    }
   ],
   "source": [
    "# If there's a binary column like 'is_ml' (1 = ML, 0 = not ML), replace with actual column name\n",
    "if 'is_ml' in df.columns:\n",
    "    ml_counts = df['is_ml'].value_counts()\n",
    "    print(\"\\nMoney Laundering Presence:\")\n",
    "    print(ml_counts)\n",
    "\n",
    "    # Visualize\n",
    "    plt.figure(figsize=(6, 6))\n",
    "    ml_counts.plot(kind='pie', autopct='%1.1f%%', labels=['Not ML', 'ML'])\n",
    "    plt.title(\"Proportion of Money Laundering Transactions\")\n",
    "    plt.show()\n",
    "else:\n",
    "    print(\"\\nAll transactions may be ML-related, as this is a synthetic AML dataset.\")\n",
    "    print(\"Total transactions:\", len(df))"
   ]
  },
  {
   "cell_type": "markdown",
   "metadata": {
    "id": "BEo3XoE5CUO_"
   },
   "source": [
    "#### Step 5: Visualization of the Dataset"
   ]
  },
  {
   "cell_type": "code",
   "execution_count": 9,
   "metadata": {
    "colab": {
     "base_uri": "https://localhost:8080/"
    },
    "id": "QEyffL8vCUO_",
    "outputId": "287d9bf7-5b64-4c48-cf38-fa145f00a928"
   },
   "outputs": [
    {
     "name": "stdout",
     "output_type": "stream",
     "text": [
      "Error: 'typology' or 'amount' column is missing from the DataFrame.\n",
      "Error: 'country' column is missing or contains only NaN values.\n"
     ]
    }
   ],
   "source": [
    "import matplotlib.pyplot as plt\n",
    "import seaborn as sns\n",
    "\n",
    "# Ensure 'typology' and 'amount' exist and drop missing values\n",
    "if {'typology', 'amount'}.issubset(df.columns):\n",
    "    df = df.dropna(subset=['typology', 'amount'])\n",
    "\n",
    "    # Convert 'typology' to string to avoid categorical issues\n",
    "    df['typology'] = df['typology'].astype(str)\n",
    "\n",
    "    # Boxplot of transaction amounts by typology\n",
    "    plt.figure(figsize=(12, 6))\n",
    "    sns.boxplot(x='typology', y='amount', data=df)\n",
    "    plt.title(\"Transaction Amounts by AML Typology\")\n",
    "    plt.xlabel(\"Typology\")\n",
    "    plt.ylabel(\"Amount\")\n",
    "    plt.xticks(rotation=45, ha='right')\n",
    "    plt.tight_layout()\n",
    "    plt.show()\n",
    "else:\n",
    "    print(\"Error: 'typology' or 'amount' column is missing from the DataFrame.\")\n",
    "\n",
    "# If 'country' exists, visualize transactions by country\n",
    "if 'country' in df.columns and not df['country'].isna().all():\n",
    "    df['country'] = df['country'].astype(str)  # Ensure 'country' is a string\n",
    "    country_counts = df['country'].value_counts().head(10)  # Top 10 countries\n",
    "\n",
    "    plt.figure(figsize=(10, 6))\n",
    "    country_counts.plot(kind='bar', color='skyblue')\n",
    "    plt.title(\"Top 10 Countries by Transaction Count\")\n",
    "    plt.xlabel(\"Country\")\n",
    "    plt.ylabel(\"Count\")\n",
    "    plt.show()\n",
    "else:\n",
    "    print(\"Error: 'country' column is missing or contains only NaN values.\")\n"
   ]
  },
  {
   "cell_type": "code",
   "execution_count": null,
   "metadata": {},
   "outputs": [],
   "source": []
  }
 ],
 "metadata": {
  "colab": {
   "provenance": []
  },
  "kernelspec": {
   "display_name": "Python 3",
   "language": "python",
   "name": "python3"
  },
  "language_info": {
   "codemirror_mode": {
    "name": "ipython",
    "version": 3
   },
   "file_extension": ".py",
   "mimetype": "text/x-python",
   "name": "python",
   "nbconvert_exporter": "python",
   "pygments_lexer": "ipython3",
   "version": "3.9.6"
  }
 },
 "nbformat": 4,
 "nbformat_minor": 0
}
